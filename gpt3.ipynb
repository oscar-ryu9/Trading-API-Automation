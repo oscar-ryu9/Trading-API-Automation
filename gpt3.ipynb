{
 "cells": [
  {
   "cell_type": "code",
   "execution_count": 15,
   "metadata": {},
   "outputs": [],
   "source": [
    "a = [[\"Nothing\", \"Nothing\", \"NOTHING\", -1],[\"Nothing\",\"Strong Long\", \"BUY100\", 0], [\"Nothing\", \"Long\", \"BUY75\", 0], [\"Nothing\", \"LTP1\", \"SELL75\", 0], [\"Nothing\", \"LTP2\", \"SELL100\",0], [\"Nothing\", \"LExit\", \"SELL100\", 0],[\"Nothing\",\"Strong Short\", \"SELL100\", 1], [\"Nothing\", \"Short\", \"SELL75\", 1], [\"Nothing\", \"STP1\", \"BUY75\", 1], [\"Nothing\", \"STP2\", \"BUY100\", 1], [\"Nothing\", \"SExit\", \"BUY100\", 1],\n",
    "                       [\"Strong Long\", \"Nothing\", \"NOTHING\", -1], [\"Strong Long\", \"LExit\", \"SELL100\", 0], [\"Strong Long\", \"LTP1\", \"SELL75\", 0], [\"Strong Long\", \"LTP2\", \"SELL100\", 0],[\"Strong Long\", \"Short\", \"SELL75\", 2], [\"Strong Long\", \"Strong Short\", \"SELL100\", 2],\n",
    "                       [\"Long\", \"Nothing\", \"NOTHING\", -1], [\"Long\", \"LExit\", \"SELL100\", 0], [\"Long\", \"LTP1\", \"SELL75\", 0], [\"Long\", \"LTP2\", \"SELL100\", 0],[\"Long\", \"Strong Short\", \"SELL100\", 2], [\"Long\", \"Short\", \"SELL75\", 2],\n",
    "                       [\"LTP1\", \"Nothing\", \"NOTHING\", -1], [\"LTP1\", \"LExit\", \"SELL100\", 0], [\"LTP1\", \"LTP2\", \"SELL100\", 0],[\"LTP1\", \"Short\", \"SELL75\", 2], [\"LTP1\", \"Strong Short\", \"SELL100\", 2],\n",
    "                       [\"LTP2\", \"Nothing\", \"NOTHING\", -1], [\"LTP2\", \"Strong Long\", \"BUY100\", 0], [\"LTP2\", \"Long\", \"BUY75\", 0],[\"LTP2\", \"Strong Short\", \"SELL100\", 1], [\"LTP2\", \"Short\", \"SELL75\", 1],\n",
    "                       [\"LExit\", \"Nothing\", \"NOTHING\", -1], [\"LExit\", \"Strong Long\", \"BUY100\", 0], [\"LExit\", \"Long\", \"BUY75\", 0], [\"LExit\", \"Strong Short\", \"SELL100\", 1], [\"LExit\", \"Short\", \"SELL75\", 1],\n",
    "                       [\"Strong Short\", \"Nothing\", \"NOTHING\", -1], [\"Strong Short\", \"SExit\", \"BUY100\", 1], [\"Strong Short\", \"STP1\", \"BUY75\", 1], [\"Strong Short\", \"STP2\", \"BUY100\", 1], [\"Strong Short\", \"Long\", \"BUY75\", 2], [\"Strong Short\", \"Strong Long\", \"BUY100\", 2],\n",
    "                       [\"Short\", \"Nothing\", \"NOTHING\", -1], [\"Short\", \"SExit\", \"BUY100\", 1], [\"Short\", \"STP1\", \"BUY75\", 1], [\"Short\", \"STP2\", \"BUY100\", 1],[\"Short\", \"Long\", \"BUY75\", 2], [\"Short\", \"Strong Long\", \"BUY100\", 2],\n",
    "                       [\"STP1\", \"Nothing\", \"NOTHING\", -1], [\"STP1\", \"SExit\", \"BUY100\", 1], [\"STP1\", \"STP2\", \"BUY100\", 1],[\"STP1\", \"Long\", \"BUY75\", 2], [\"STP1\", \"Strong Long\", \"BUY100\", 2],\n",
    "                       [\"STP2\", \"Nothing\", \"NOTHING\", -1], [\"STP2\", \"Strong Long\", \"BUY100\", 0], [\"STP2\", \"Long\", \"BUY75\", 0],[\"STP2\", \"Strong Short\", \"SELL100\", 1], [\"STP2\", \"Short\", \"SELL75\", 1],\n",
    "                       [\"SExit\", \"Nothing\", \"NOTHING\", -1], [\"SExit\", \"Strong Long\", \"BUY100\", 0], [\"SExit\", \"Long\", \"BUY75\", 0], [\"SExit\", \"Strong Short\", \"SELL100\", 1], [\"SExit\", \"Short\", \"SELL75\", 1]]"
   ]
  },
  {
   "cell_type": "code",
   "execution_count": 16,
   "metadata": {},
   "outputs": [],
   "source": [
    "string_stuff = []\n",
    "\n",
    "for i in range(len(a)):\n",
    "    inner_list = [a[i][2], [a[i][0], a[i][3]], a[i][0], a[i][1]]\n",
    "\n",
    "    string_stuff.append(inner_list)"
   ]
  },
  {
   "cell_type": "code",
   "execution_count": 17,
   "metadata": {},
   "outputs": [
    {
     "data": {
      "text/plain": [
       "[['NOTHING', ['Nothing', -1], 'Nothing', 'Nothing'],\n",
       " ['BUY100', ['Nothing', 0], 'Nothing', 'Strong Long'],\n",
       " ['BUY75', ['Nothing', 0], 'Nothing', 'Long'],\n",
       " ['SELL75', ['Nothing', 0], 'Nothing', 'LTP1'],\n",
       " ['SELL100', ['Nothing', 0], 'Nothing', 'LTP2'],\n",
       " ['SELL100', ['Nothing', 0], 'Nothing', 'LExit'],\n",
       " ['SELL100', ['Nothing', 1], 'Nothing', 'Strong Short'],\n",
       " ['SELL75', ['Nothing', 1], 'Nothing', 'Short'],\n",
       " ['BUY75', ['Nothing', 1], 'Nothing', 'STP1'],\n",
       " ['BUY100', ['Nothing', 1], 'Nothing', 'STP2'],\n",
       " ['BUY100', ['Nothing', 1], 'Nothing', 'SExit'],\n",
       " ['NOTHING', ['Strong Long', -1], 'Strong Long', 'Nothing'],\n",
       " ['SELL100', ['Strong Long', 0], 'Strong Long', 'LExit'],\n",
       " ['SELL75', ['Strong Long', 0], 'Strong Long', 'LTP1'],\n",
       " ['SELL100', ['Strong Long', 0], 'Strong Long', 'LTP2'],\n",
       " ['SELL75', ['Strong Long', 2], 'Strong Long', 'Short'],\n",
       " ['SELL100', ['Strong Long', 2], 'Strong Long', 'Strong Short'],\n",
       " ['NOTHING', ['Long', -1], 'Long', 'Nothing'],\n",
       " ['SELL100', ['Long', 0], 'Long', 'LExit'],\n",
       " ['SELL75', ['Long', 0], 'Long', 'LTP1'],\n",
       " ['SELL100', ['Long', 0], 'Long', 'LTP2'],\n",
       " ['SELL100', ['Long', 2], 'Long', 'Strong Short'],\n",
       " ['SELL75', ['Long', 2], 'Long', 'Short'],\n",
       " ['NOTHING', ['LTP1', -1], 'LTP1', 'Nothing'],\n",
       " ['SELL100', ['LTP1', 0], 'LTP1', 'LExit'],\n",
       " ['SELL100', ['LTP1', 0], 'LTP1', 'LTP2'],\n",
       " ['SELL75', ['LTP1', 2], 'LTP1', 'Short'],\n",
       " ['SELL100', ['LTP1', 2], 'LTP1', 'Strong Short'],\n",
       " ['NOTHING', ['LTP2', -1], 'LTP2', 'Nothing'],\n",
       " ['BUY100', ['LTP2', 0], 'LTP2', 'Strong Long'],\n",
       " ['BUY75', ['LTP2', 0], 'LTP2', 'Long'],\n",
       " ['SELL100', ['LTP2', 1], 'LTP2', 'Strong Short'],\n",
       " ['SELL75', ['LTP2', 1], 'LTP2', 'Short'],\n",
       " ['NOTHING', ['LExit', -1], 'LExit', 'Nothing'],\n",
       " ['BUY100', ['LExit', 0], 'LExit', 'Strong Long'],\n",
       " ['BUY75', ['LExit', 0], 'LExit', 'Long'],\n",
       " ['SELL100', ['LExit', 1], 'LExit', 'Strong Short'],\n",
       " ['SELL75', ['LExit', 1], 'LExit', 'Short'],\n",
       " ['NOTHING', ['Strong Short', -1], 'Strong Short', 'Nothing'],\n",
       " ['BUY100', ['Strong Short', 1], 'Strong Short', 'SExit'],\n",
       " ['BUY75', ['Strong Short', 1], 'Strong Short', 'STP1'],\n",
       " ['BUY100', ['Strong Short', 1], 'Strong Short', 'STP2'],\n",
       " ['BUY75', ['Strong Short', 2], 'Strong Short', 'Long'],\n",
       " ['BUY100', ['Strong Short', 2], 'Strong Short', 'Strong Long'],\n",
       " ['NOTHING', ['Short', -1], 'Short', 'Nothing'],\n",
       " ['BUY100', ['Short', 1], 'Short', 'SExit'],\n",
       " ['BUY75', ['Short', 1], 'Short', 'STP1'],\n",
       " ['BUY100', ['Short', 1], 'Short', 'STP2'],\n",
       " ['BUY75', ['Short', 2], 'Short', 'Long'],\n",
       " ['BUY100', ['Short', 2], 'Short', 'Strong Long'],\n",
       " ['NOTHING', ['STP1', -1], 'STP1', 'Nothing'],\n",
       " ['BUY100', ['STP1', 1], 'STP1', 'SExit'],\n",
       " ['BUY100', ['STP1', 1], 'STP1', 'STP2'],\n",
       " ['BUY75', ['STP1', 2], 'STP1', 'Long'],\n",
       " ['BUY100', ['STP1', 2], 'STP1', 'Strong Long'],\n",
       " ['NOTHING', ['STP2', -1], 'STP2', 'Nothing'],\n",
       " ['BUY100', ['STP2', 0], 'STP2', 'Strong Long'],\n",
       " ['BUY75', ['STP2', 0], 'STP2', 'Long'],\n",
       " ['SELL100', ['STP2', 1], 'STP2', 'Strong Short'],\n",
       " ['SELL75', ['STP2', 1], 'STP2', 'Short'],\n",
       " ['NOTHING', ['SExit', -1], 'SExit', 'Nothing'],\n",
       " ['BUY100', ['SExit', 0], 'SExit', 'Strong Long'],\n",
       " ['BUY75', ['SExit', 0], 'SExit', 'Long'],\n",
       " ['SELL100', ['SExit', 1], 'SExit', 'Strong Short'],\n",
       " ['SELL75', ['SExit', 1], 'SExit', 'Short']]"
      ]
     },
     "execution_count": 17,
     "metadata": {},
     "output_type": "execute_result"
    }
   ],
   "source": [
    "string_stuff"
   ]
  },
  {
   "cell_type": "code",
   "execution_count": 11,
   "metadata": {},
   "outputs": [],
   "source": [
    "def increment_counter():\n",
    "    # Read current count from file\n",
    "    with open(\"counter.txt\", 'r') as file:\n",
    "        count = int(file.read().strip())\n",
    "\n",
    "    # Increment count\n",
    "    count += 1\n",
    "\n",
    "    # Write updated count back to file\n",
    "    with open(\"counter.txt\", 'w') as file:\n",
    "        file.write(str(count))\n",
    "\n",
    "    return count"
   ]
  },
  {
   "cell_type": "markdown",
   "metadata": {},
   "source": [
    "From 0 owned to Buying/Selling.\n",
    "From owned to Buying/Selling to get rid of 75%\n",
    "From owned to Buying/Selling to get rid of 100%\n",
    "From owned to Buying/Selling to get rid of 100% then Buying/Selling"
   ]
  },
  {
   "cell_type": "markdown",
   "metadata": {},
   "source": []
  }
 ],
 "metadata": {
  "kernelspec": {
   "display_name": "Python 3",
   "language": "python",
   "name": "python3"
  },
  "language_info": {
   "codemirror_mode": {
    "name": "ipython",
    "version": 3
   },
   "file_extension": ".py",
   "mimetype": "text/x-python",
   "name": "python",
   "nbconvert_exporter": "python",
   "pygments_lexer": "ipython3",
   "version": "3.10.8"
  }
 },
 "nbformat": 4,
 "nbformat_minor": 2
}

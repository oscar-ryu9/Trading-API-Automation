{
 "cells": [
  {
   "cell_type": "code",
   "execution_count": 56,
   "metadata": {},
   "outputs": [],
   "source": [
    "import pandas as pd\n",
    "import datetime\n",
    "import MetaTrader5 as mt5\n",
    "from datetime import datetime, timedelta\n",
    "import pandas as pd\n",
    "import time\n",
    "import numpy as np\n",
    "\n",
    "mt5.initialize()\n",
    "mt5.login(#YOur LOGIN\n",
    ")\n",
    "\n",
    "symbol = \"INTC.NAS\"\n",
    "timeframe = mt5.TIMEFRAME_D1\n",
    "date_from = datetime.now() - timedelta(days=1000)\n",
    "date_to = datetime.now() + timedelta(days=1)\n",
    "\n",
    "prices = pd.DataFrame(mt5.copy_rates_range(symbol, timeframe, date_from, date_to))\n",
    "prices[\"time\"] = pd.to_datetime(prices['time'], unit = 's')\n",
    "\n",
    "green_candles = prices[prices[\"open\"] < prices[\"close\"]]\n",
    "green_indices = green_candles.index\n",
    "green_next_indices = green_indices + 1\n",
    "green_next_in_original = prices.index.isin(green_next_indices)\n",
    "green_next = prices[green_next_in_original]\n",
    "\n",
    "red_candles = prices[prices[\"open\"] > prices[\"close\"]]\n",
    "red_indices = red_candles.index\n",
    "red_next_indices = red_indices+1\n",
    "red_next_in_original = prices.index.isin(red_next_indices)\n",
    "red_next = prices[red_next_in_original]"
   ]
  },
  {
   "cell_type": "code",
   "execution_count": 57,
   "metadata": {},
   "outputs": [],
   "source": [
    "total_greens = green_next.shape[0]\n",
    "total_reds = red_next.shape[0]"
   ]
  },
  {
   "cell_type": "code",
   "execution_count": 58,
   "metadata": {},
   "outputs": [
    {
     "name": "stdout",
     "output_type": "stream",
     "text": [
      "44.16 45.39\n"
     ]
    }
   ],
   "source": [
    "low = prices.iloc[-1][\"low\"]\n",
    "high = prices.iloc[-1][\"high\"]\n",
    "print(low, high)"
   ]
  },
  {
   "cell_type": "code",
   "execution_count": 59,
   "metadata": {},
   "outputs": [],
   "source": [
    "single = (prices.iloc[-1][\"tick_volume\"])*1.5\n",
    "red_replacement = red_next[red_next[\"tick_volume\"] < single]\n",
    "green_replacement = green_next[green_next[\"tick_volume\"] < single]\n",
    "green_replacement_total = green_replacement.shape[0]\n",
    "red_replacement_total = red_replacement.shape[0]"
   ]
  },
  {
   "cell_type": "code",
   "execution_count": 60,
   "metadata": {},
   "outputs": [],
   "source": [
    "green_portion_lower = green_replacement[green_replacement['low'] < (low+high)]\n",
    "total_green_portion_lower = green_portion_lower.shape[0]\n",
    "green_final = total_green_portion_lower/green_replacement_total * 100\n",
    "\n",
    "red_portion_lower = red_replacement[red_replacement['low'] < (low+high)]\n",
    "total_red_portion_lower = red_portion_lower.shape[0]\n",
    "red_final = total_red_portion_lower/red_replacement_total * 100"
   ]
  },
  {
   "cell_type": "code",
   "execution_count": 63,
   "metadata": {},
   "outputs": [
    {
     "data": {
      "text/plain": [
       "202"
      ]
     },
     "execution_count": 63,
     "metadata": {},
     "output_type": "execute_result"
    }
   ],
   "source": [
    "total_red_portion_lower"
   ]
  }
 ],
 "metadata": {
  "kernelspec": {
   "display_name": "Python 3",
   "language": "python",
   "name": "python3"
  },
  "language_info": {
   "codemirror_mode": {
    "name": "ipython",
    "version": 3
   },
   "file_extension": ".py",
   "mimetype": "text/x-python",
   "name": "python",
   "nbconvert_exporter": "python",
   "pygments_lexer": "ipython3",
   "version": "3.10.8"
  }
 },
 "nbformat": 4,
 "nbformat_minor": 2
}
